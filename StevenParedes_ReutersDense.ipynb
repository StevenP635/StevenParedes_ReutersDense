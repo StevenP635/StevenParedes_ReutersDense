{
  "nbformat": 4,
  "nbformat_minor": 0,
  "metadata": {
    "colab": {
      "name": "StevenParedes_ReutersDense.ipynb",
      "provenance": [],
      "collapsed_sections": []
    },
    "kernelspec": {
      "name": "python3",
      "display_name": "Python 3"
    }
  },
  "cells": [
    {
      "cell_type": "code",
      "metadata": {
        "id": "7YmiwKnnPSnI",
        "colab": {
          "base_uri": "https://localhost:8080/"
        },
        "outputId": "cd59df74-740c-4491-a834-9fd9ef538170"
      },
      "source": [
        "# Load the Reuters dataset - use the Keras version\n",
        "#   Select the vocabulary size while loading the data\n",
        "#   The data will be loaded as integer representations for each word\n",
        "import keras\n",
        "from keras.preprocessing.text import Tokenizer\n",
        "from keras.utils import np_utils\n",
        "#from keras.layers import \n",
        "\n",
        "from tensorflow.keras.datasets import reuters\n",
        "\n",
        "(train_x, train_y), (test_x, test_y) = reuters.load_data()\n",
        "word_index = reuters.get_word_index()\n",
        "\n",
        "num_classes = 46"
      ],
      "execution_count": null,
      "outputs": [
        {
          "output_type": "stream",
          "name": "stdout",
          "text": [
            "Downloading data from https://storage.googleapis.com/tensorflow/tf-keras-datasets/reuters.npz\n",
            "2113536/2110848 [==============================] - 0s 0us/step\n",
            "2121728/2110848 [==============================] - 0s 0us/step\n",
            "Downloading data from https://storage.googleapis.com/tensorflow/tf-keras-datasets/reuters_word_index.json\n",
            "557056/550378 [==============================] - 0s 0us/step\n",
            "565248/550378 [==============================] - 0s 0us/step\n"
          ]
        }
      ]
    },
    {
      "cell_type": "code",
      "metadata": {
        "id": "wx0eke6yPVXy"
      },
      "source": [
        "# Prepare the data to be used for the next steps\n",
        "#   Each data entry (newswire) can be of different lengths\n",
        "#   Make each newswire consistent - same number of words\n",
        "#   'Pad' words (say 0) to get to the standard length or remove words\n",
        "\n",
        "max_words = 10000\n",
        "\n",
        "tokenizer = Tokenizer(num_words = max_words)\n",
        "\n",
        "train_x = tokenizer.sequences_to_matrix(train_x, mode = 'binary')\n",
        "test_x = tokenizer.sequences_to_matrix(test_x, mode = 'binary')\n",
        "\n",
        "train_y = keras.utils.np_utils.to_categorical(train_y, num_classes)\n",
        "test_y = keras.utils.np_utils.to_categorical(test_y, num_classes)\n"
      ],
      "execution_count": null,
      "outputs": []
    },
    {
      "cell_type": "code",
      "metadata": {
        "id": "sCkMbqvmsz3q"
      },
      "source": [
        "# Create a DL model for Natural Language Processing - Recurrent Neural Network / LSTM / GRU\n",
        "def create_lstm_model():\n",
        "  model = tf.keras.Sequential([\n",
        "    tf.keras.layers.Dense(512, input_shape = (max_words, ), activation = 'relu'),\n",
        "    tf.keras.layers.Dropout(0.5),\n",
        "    tf.keras.layers.Dense(num_classes, activation = 'softmax'),\n",
        "  ])\n",
        "\n",
        "  model.compile(loss = 'categorical_crossentropy', optimizer='adam', metrics=['accuracy'])\n",
        "\n",
        "  return model"
      ],
      "execution_count": null,
      "outputs": []
    },
    {
      "cell_type": "code",
      "metadata": {
        "id": "6KAwHLK0PgLK",
        "colab": {
          "base_uri": "https://localhost:8080/"
        },
        "outputId": "3d148d33-76ce-4f8a-d2b7-20878f509486"
      },
      "source": [
        "# Print the DL model summary\n",
        "lstm_model = create_lstm_model()\n",
        "print(lstm_model.summary)\n"
      ],
      "execution_count": null,
      "outputs": [
        {
          "output_type": "stream",
          "name": "stdout",
          "text": [
            "<bound method Model.summary of <keras.engine.sequential.Sequential object at 0x7f8c84c3f310>>\n"
          ]
        }
      ]
    },
    {
      "cell_type": "code",
      "metadata": {
        "id": "3UZiMUfhb2lT"
      },
      "source": [
        "# Set the model checkpoints to be saved in a folder in the google drive at at location \"/content/drive/My Drive/Colab Notebooks/cifar/\"\n",
        "checkpoint_path_lstm = \"/content/drive/My Drive/Colab Notebooks/reuters/\"\n",
        "checkpoint_dir_lstm = os.path.dirname(checkpoint_path_lstm)\n"
      ],
      "execution_count": null,
      "outputs": []
    },
    {
      "cell_type": "code",
      "metadata": {
        "id": "QJx4Z2r6PnE9",
        "colab": {
          "base_uri": "https://localhost:8080/"
        },
        "outputId": "903e2d3d-c558-434c-e518-52618c43ed9a"
      },
      "source": [
        "# Train/fit the DL model using the training Reuters data\n",
        "cp_callback_lstm = tf.keras.callbacks.ModelCheckpoint(filepath=checkpoint_path_lstm, save_weights_only=True, verbose=1)\n",
        "\n",
        "lstm_history = lstm_model.fit(train_x, train_y, batch_size = 32, epochs=7, verbose=1, validation_data = (test_x, test_y), validation_split=0.1, callbacks=[cp_callback_lstm])"
      ],
      "execution_count": null,
      "outputs": [
        {
          "output_type": "stream",
          "name": "stdout",
          "text": [
            "Epoch 1/7\n",
            "253/253 [==============================] - ETA: 0s - loss: 0.3149 - accuracy: 0.9291\n",
            "Epoch 00001: saving model to /content/drive/My Drive/Colab Notebooks/reuters/\n",
            "253/253 [==============================] - 8s 30ms/step - loss: 0.3149 - accuracy: 0.9291 - val_loss: 0.8957 - val_accuracy: 0.8131\n",
            "Epoch 2/7\n",
            "251/253 [============================>.] - ETA: 0s - loss: 0.2302 - accuracy: 0.9480\n",
            "Epoch 00002: saving model to /content/drive/My Drive/Colab Notebooks/reuters/\n",
            "253/253 [==============================] - 8s 30ms/step - loss: 0.2312 - accuracy: 0.9475 - val_loss: 0.9230 - val_accuracy: 0.8154\n",
            "Epoch 3/7\n",
            "253/253 [==============================] - ETA: 0s - loss: 0.1873 - accuracy: 0.9530\n",
            "Epoch 00003: saving model to /content/drive/My Drive/Colab Notebooks/reuters/\n",
            "253/253 [==============================] - 7s 30ms/step - loss: 0.1873 - accuracy: 0.9530 - val_loss: 0.9695 - val_accuracy: 0.8165\n",
            "Epoch 4/7\n",
            "253/253 [==============================] - ETA: 0s - loss: 0.1930 - accuracy: 0.9552\n",
            "Epoch 00004: saving model to /content/drive/My Drive/Colab Notebooks/reuters/\n",
            "253/253 [==============================] - 7s 30ms/step - loss: 0.1930 - accuracy: 0.9552 - val_loss: 1.0615 - val_accuracy: 0.7964\n",
            "Epoch 5/7\n",
            "251/253 [============================>.] - ETA: 0s - loss: 0.1895 - accuracy: 0.9541\n",
            "Epoch 00005: saving model to /content/drive/My Drive/Colab Notebooks/reuters/\n",
            "253/253 [==============================] - 8s 30ms/step - loss: 0.1894 - accuracy: 0.9537 - val_loss: 1.0040 - val_accuracy: 0.8053\n",
            "Epoch 6/7\n",
            "253/253 [==============================] - ETA: 0s - loss: 0.1915 - accuracy: 0.9548\n",
            "Epoch 00006: saving model to /content/drive/My Drive/Colab Notebooks/reuters/\n",
            "253/253 [==============================] - 7s 30ms/step - loss: 0.1915 - accuracy: 0.9548 - val_loss: 1.0891 - val_accuracy: 0.8053\n",
            "Epoch 7/7\n",
            "251/253 [============================>.] - ETA: 0s - loss: 0.1778 - accuracy: 0.9569\n",
            "Epoch 00007: saving model to /content/drive/My Drive/Colab Notebooks/reuters/\n",
            "253/253 [==============================] - 7s 29ms/step - loss: 0.1771 - accuracy: 0.9571 - val_loss: 1.0734 - val_accuracy: 0.8131\n"
          ]
        }
      ]
    },
    {
      "cell_type": "code",
      "metadata": {
        "id": "gkKo129dPo42",
        "colab": {
          "base_uri": "https://localhost:8080/",
          "height": 332
        },
        "outputId": "ae767b3b-6d66-4d4c-c99a-8223a2616d8b"
      },
      "source": [
        "# Plot the training/validation accuracy and loss\n",
        "\n",
        "# Re-evaluate the model\n",
        "loss, acc = lstm_model.evaluate(test_x, test_y, verbose=2)\n",
        "\n",
        "# Plot the training/validation accuracy and loss\n",
        "print(lstm_history.history.keys())\n",
        "plt.plot(lstm_history.history['accuracy'])\n",
        "plt.plot(lstm_history.history['val_accuracy'])\n",
        "plt.title('model accuracy')\n",
        "plt.ylabel('accuracy')\n",
        "plt.xlabel('epoch')\n",
        "plt.legend(['train', 'test'], loc='upper left')\n",
        "plt.show()"
      ],
      "execution_count": null,
      "outputs": [
        {
          "output_type": "stream",
          "name": "stdout",
          "text": [
            "71/71 - 1s - loss: 1.0300 - accuracy: 0.7996 - 546ms/epoch - 8ms/step\n",
            "dict_keys(['loss', 'accuracy', 'val_loss', 'val_accuracy'])\n"
          ]
        },
        {
          "output_type": "display_data",
          "data": {
            "image/png": "[encoded data removed]",
            "text/plain": [
              "<Figure size 432x288 with 1 Axes>"
            ]
          },
          "metadata": {
            "needs_background": "light"
          }
        }
      ]
    },
    {
      "cell_type": "code",
      "metadata": {
        "id": "9sKv9TftPwX5"
      },
      "source": [
        "# Re-initialize the model\n",
        "new_lstm_model = create_lstm_model()\n"
      ],
      "execution_count": null,
      "outputs": []
    },
    {
      "cell_type": "code",
      "metadata": {
        "id": "qyLiMplSP5QA",
        "colab": {
          "base_uri": "https://localhost:8080/"
        },
        "outputId": "9fad6e79-e5ec-45c1-e482-b4a52cf2bdd7"
      },
      "source": [
        "# Load the model weights that were saved at - \"/content/drive/My Drive/Colab Notebooks/reuters/\"\n",
        "new_lstm_model.load_weights(checkpoint_path_lstm)\n"
      ],
      "execution_count": null,
      "outputs": [
        {
          "output_type": "execute_result",
          "data": {
            "text/plain": [
              "<tensorflow.python.training.tracking.util.CheckpointLoadStatus at 0x7f8c84cc8a90>"
            ]
          },
          "metadata": {},
          "execution_count": 36
        }
      ]
    },
    {
      "cell_type": "code",
      "metadata": {
        "id": "PuKL-lX7P64y",
        "colab": {
          "base_uri": "https://localhost:8080/"
        },
        "outputId": "5363a62e-ff14-4729-90fc-3eebe7c52197"
      },
      "source": [
        "# Evaluate the trained DL model on the Reuters test dataset\n",
        "test_loss, test_acc = new_lstm_model.evaluate(test_x,  test_y, verbose=2)\n"
      ],
      "execution_count": null,
      "outputs": [
        {
          "output_type": "stream",
          "name": "stdout",
          "text": [
            "71/71 - 1s - loss: 1.0300 - accuracy: 0.7996 - 676ms/epoch - 10ms/step\n"
          ]
        }
      ]
    }
  ]
}